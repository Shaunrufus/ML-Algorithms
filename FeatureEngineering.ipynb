{
 "cells": [
  {
   "cell_type": "markdown",
   "id": "91b374c5",
   "metadata": {},
   "source": [
    "FEATURE ENGINEERING \n",
    "\n",
    "| Benefit                        | Description                                                                                  |\n",
    "| ------------------------------ | -------------------------------------------------------------------------------------------- |\n",
    "|  **Better Model Accuracy**   | Creating more meaningful features helps models make better predictions.                      |\n",
    "|  **Faster Training**         | Good features reduce model confusion, speeding up training.                                  |\n",
    "|  **Handle Real-world Data**  | Most real data is messy. Feature engineering makes it usable.                                |\n",
    "|  **More Explainable Models** | Helps you understand *why* a model predicts something (important in interviews + real jobs). |\n",
    "| **Outperform Defaults**     | Often, feature engineering improves performance *more* than just switching algorithms.       |\n"
   ]
  },
  {
   "cell_type": "code",
   "execution_count": 3,
   "id": "7ec4787a",
   "metadata": {},
   "outputs": [
    {
     "name": "stdout",
     "output_type": "stream",
     "text": [
      "   age     sex     bmi  children smoker     region      charges\n",
      "0   19  female  27.900         0    yes  southwest  16884.92400\n",
      "1   18    male  33.770         1     no  southeast   1725.55230\n",
      "2   28    male  33.000         3     no  southeast   4449.46200\n",
      "3   33    male  22.705         0     no  northwest  21984.47061\n",
      "4   32    male  28.880         0     no  northwest   3866.85520\n",
      "<class 'pandas.core.frame.DataFrame'>\n",
      "RangeIndex: 1338 entries, 0 to 1337\n",
      "Data columns (total 7 columns):\n",
      " #   Column    Non-Null Count  Dtype  \n",
      "---  ------    --------------  -----  \n",
      " 0   age       1338 non-null   int64  \n",
      " 1   sex       1338 non-null   object \n",
      " 2   bmi       1338 non-null   float64\n",
      " 3   children  1338 non-null   int64  \n",
      " 4   smoker    1338 non-null   object \n",
      " 5   region    1338 non-null   object \n",
      " 6   charges   1338 non-null   float64\n",
      "dtypes: float64(2), int64(2), object(3)\n",
      "memory usage: 73.3+ KB\n",
      "None\n"
     ]
    },
    {
     "name": "stderr",
     "output_type": "stream",
     "text": [
      "<>:4: SyntaxWarning: invalid escape sequence '\\M'\n",
      "<>:4: SyntaxWarning: invalid escape sequence '\\M'\n",
      "C:\\Users\\shaun\\AppData\\Local\\Temp\\ipykernel_16460\\3634222023.py:4: SyntaxWarning: invalid escape sequence '\\M'\n",
      "  df = pd.read_csv(\"C:\\ML Projects\\ML datasets\\insurancecharges.csv\")\n"
     ]
    }
   ],
   "source": [
    "import pandas as pd\n",
    "\n",
    "# Load the dataset\n",
    "df = pd.read_csv(\"C:\\ML Projects\\ML datasets\\insurancecharges.csv\")\n",
    "\n",
    "# View the first few rows\n",
    "print(df.head())\n",
    "\n",
    "# View data types and missing values\n",
    "print(df.info())\n"
   ]
  },
  {
   "cell_type": "code",
   "execution_count": 4,
   "id": "071e990c",
   "metadata": {},
   "outputs": [],
   "source": [
    "def bmi_category(bmi):\n",
    "    if bmi < 18.5:\n",
    "        return 'underweight'\n",
    "    elif 18.5 <= bmi < 25:\n",
    "        return 'normal'\n",
    "    elif 25 <= bmi < 30:\n",
    "        return 'overweight'\n",
    "    else:\n",
    "        return 'obese'\n",
    "\n",
    "df['bmi_category'] = df['bmi'].apply(bmi_category)\n"
   ]
  },
  {
   "cell_type": "code",
   "execution_count": 5,
   "id": "df3f1082",
   "metadata": {},
   "outputs": [],
   "source": [
    "df['age_group'] = pd.cut(df['age'], bins=[17, 25, 35, 45, 55, 65, 100], \n",
    "                         labels=['18–25', '26–35', '36–45', '46–55', '56–65', '65+'])\n"
   ]
  },
  {
   "cell_type": "code",
   "execution_count": 6,
   "id": "b8dfcc75",
   "metadata": {},
   "outputs": [],
   "source": [
    "df['is_smoker'] = df['smoker'].apply(lambda x: 1 if x == 'yes' else 0)\n"
   ]
  },
  {
   "cell_type": "code",
   "execution_count": 7,
   "id": "c01515b9",
   "metadata": {},
   "outputs": [],
   "source": [
    "df['region_code'] = df['region'].astype('category').cat.codes\n"
   ]
  },
  {
   "cell_type": "code",
   "execution_count": 8,
   "id": "e9707b66",
   "metadata": {},
   "outputs": [],
   "source": [
    "df['bmi_age_ratio'] = df['bmi'] / df['age']\n"
   ]
  },
  {
   "cell_type": "code",
   "execution_count": 9,
   "id": "113af529",
   "metadata": {},
   "outputs": [],
   "source": [
    "import numpy as np\n",
    "df['log_charges'] = np.log(df['charges'])\n"
   ]
  },
  {
   "cell_type": "code",
   "execution_count": 10,
   "id": "379aad7d",
   "metadata": {},
   "outputs": [
    {
     "name": "stdout",
     "output_type": "stream",
     "text": [
      "      bmi bmi_category  age age_group  is_smoker  region_code  bmi_age_ratio  \\\n",
      "0  27.900   overweight   19     18–25          1            3       1.468421   \n",
      "1  33.770        obese   18     18–25          0            2       1.876111   \n",
      "2  33.000        obese   28     26–35          0            2       1.178571   \n",
      "3  22.705       normal   33     26–35          0            1       0.688030   \n",
      "4  28.880   overweight   32     26–35          0            1       0.902500   \n",
      "\n",
      "   log_charges  \n",
      "0     9.734176  \n",
      "1     7.453302  \n",
      "2     8.400538  \n",
      "3     9.998092  \n",
      "4     8.260197  \n"
     ]
    }
   ],
   "source": [
    "print(df[['bmi', 'bmi_category', 'age', 'age_group', 'is_smoker', 'region_code', 'bmi_age_ratio', 'log_charges']].head())\n"
   ]
  },
  {
   "cell_type": "code",
   "execution_count": 11,
   "id": "68a107cc",
   "metadata": {},
   "outputs": [],
   "source": [
    "df_encoded = pd.get_dummies(df, columns=['bmi_category', 'age_group'], drop_first=True)\n"
   ]
  }
 ],
 "metadata": {
  "kernelspec": {
   "display_name": "Python 3",
   "language": "python",
   "name": "python3"
  },
  "language_info": {
   "codemirror_mode": {
    "name": "ipython",
    "version": 3
   },
   "file_extension": ".py",
   "mimetype": "text/x-python",
   "name": "python",
   "nbconvert_exporter": "python",
   "pygments_lexer": "ipython3",
   "version": "3.13.2"
  }
 },
 "nbformat": 4,
 "nbformat_minor": 5
}
