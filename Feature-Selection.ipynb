{
 "cells": [
  {
   "cell_type": "markdown",
   "id": "11be7e03",
   "metadata": {},
   "source": [
    "Feature selection is the process of choosing the most relevant features (columns) from your dataset that contribute the most to predicting the target variable.\n",
    "\n",
    "\n",
    "Why and When to Use Feature Selection\n",
    "\n",
    "Types of Feature Selection\n",
    "\n",
    "Filter Methods (e.g., correlation)\n",
    "\n",
    "Wrapper Methods (e.g., RFE)\n",
    "\n",
    "Embedded Methods (e.g., feature importance from model)\n",
    "\n",
    "Practical Code Using Feature Selection Techniques\n",
    "\n",
    "\n",
    " Tools:\n",
    "SelectKBest with f_regression\n",
    "\n",
    "RFE (Recursive Feature Elimination)\n",
    "\n",
    "Feature Importance from:\n",
    "\n",
    "DecisionTree\n",
    "\n",
    "RandomForest\n",
    "\n",
    "XGBoost"
   ]
  },
  {
   "cell_type": "code",
   "execution_count": 2,
   "id": "43c47382",
   "metadata": {},
   "outputs": [],
   "source": [
    "from sklearn.feature_selection import SelectKBest, f_regression\n",
    "from sklearn.datasets import fetch_california_housing  # Use California housing dataset instead\n",
    "from sklearn.model_selection import train_test_split\n",
    "import pandas as pd\n"
   ]
  },
  {
   "cell_type": "code",
   "execution_count": 4,
   "id": "04565022",
   "metadata": {},
   "outputs": [],
   "source": [
    "data = fetch_california_housing()\n",
    "X = pd.DataFrame(data.data, columns=data.feature_names)\n",
    "y = data.target"
   ]
  },
  {
   "cell_type": "code",
   "execution_count": 5,
   "id": "cd3c9c70",
   "metadata": {},
   "outputs": [],
   "source": [
    "X_train, X_test, y_train, y_test = train_test_split(X, y, test_size=0.2, random_state=42)"
   ]
  },
  {
   "cell_type": "code",
   "execution_count": 6,
   "id": "48d7e8d4",
   "metadata": {},
   "outputs": [],
   "source": [
    "#SelectKBest with f_regression\n",
    "selector = SelectKBest(score_func=f_regression, k=5)\n",
    "X_train_selected = selector.fit_transform(X_train, y_train)\n",
    "X_test_selected = selector.transform(X_test)\n"
   ]
  },
  {
   "cell_type": "code",
   "execution_count": 7,
   "id": "fa6e8f8a",
   "metadata": {},
   "outputs": [
    {
     "name": "stdout",
     "output_type": "stream",
     "text": [
      "Top 5 selected features: ['MedInc', 'HouseAge', 'AveRooms', 'AveBedrms', 'Latitude']\n"
     ]
    }
   ],
   "source": [
    "selected_features = X.columns[selector.get_support()]\n",
    "print(\"Top 5 selected features:\", selected_features.tolist())"
   ]
  }
 ],
 "metadata": {
  "kernelspec": {
   "display_name": "Python 3",
   "language": "python",
   "name": "python3"
  },
  "language_info": {
   "codemirror_mode": {
    "name": "ipython",
    "version": 3
   },
   "file_extension": ".py",
   "mimetype": "text/x-python",
   "name": "python",
   "nbconvert_exporter": "python",
   "pygments_lexer": "ipython3",
   "version": "3.13.2"
  }
 },
 "nbformat": 4,
 "nbformat_minor": 5
}
